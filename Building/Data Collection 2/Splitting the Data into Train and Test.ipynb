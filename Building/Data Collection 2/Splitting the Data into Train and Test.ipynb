{
  "nbformat": 4,
  "nbformat_minor": 0,
  "metadata": {
    "colab": {
      "provenance": []
    },
    "kernelspec": {
      "name": "python3",
      "display_name": "Python 3"
    },
    "language_info": {
      "name": "python"
    }
  },
  "cells": [
    {
      "cell_type": "markdown",
      "source": [
        "**Splitting the Data into Train and Test**"
      ],
      "metadata": {
        "id": "M4HbzjLlHbZM"
      }
    },
    {
      "cell_type": "code",
      "source": [
        "import numpy as np\n",
        "import pandas as pd\n",
        "import matplotlib.pyplot as plt\n",
        "import seaborn as sns"
      ],
      "metadata": {
        "id": "2Bc5NF3PHgXA"
      },
      "execution_count": 1,
      "outputs": []
    },
    {
      "cell_type": "code",
      "source": [
        "data = pd.read_csv(r\"Admission_Predict.csv\")\n",
        "x = data.iloc[:, :-1]\n",
        "y = data['Chance of Admit ']"
      ],
      "metadata": {
        "id": "IfQNpuT-I0Fl"
      },
      "execution_count": 3,
      "outputs": []
    },
    {
      "cell_type": "code",
      "source": [
        "from sklearn.model_selection import train_test_split \n",
        "x_train, x_test, y_train, y_test = train_test_split(x, y, test_size=0.2, random_state=50)"
      ],
      "metadata": {
        "id": "kRkSiLS6HnM2"
      },
      "execution_count": 4,
      "outputs": []
    },
    {
      "cell_type": "code",
      "source": [
        "y_train = (y_train>0.5) \n",
        "y_train"
      ],
      "metadata": {
        "colab": {
          "base_uri": "https://localhost:8080/"
        },
        "id": "A3pcmuFCJhbf",
        "outputId": "a3c217cb-6a51-4434-f74d-03cbeab7792b"
      },
      "execution_count": 5,
      "outputs": [
        {
          "output_type": "execute_result",
          "data": {
            "text/plain": [
              "145    True\n",
              "387    True\n",
              "44     True\n",
              "138    True\n",
              "43     True\n",
              "       ... \n",
              "132    True\n",
              "289    True\n",
              "109    True\n",
              "395    True\n",
              "176    True\n",
              "Name: Chance of Admit , Length: 320, dtype: bool"
            ]
          },
          "metadata": {},
          "execution_count": 5
        }
      ]
    },
    {
      "cell_type": "code",
      "source": [
        "y_test = (y_test>0.5)\n",
        "y_test"
      ],
      "metadata": {
        "colab": {
          "base_uri": "https://localhost:8080/"
        },
        "id": "fAfmDcwZJwWM",
        "outputId": "2e10f6c9-34e0-46bc-85c2-da2b86fb430b"
      },
      "execution_count": 7,
      "outputs": [
        {
          "output_type": "execute_result",
          "data": {
            "text/plain": [
              "146    True\n",
              "332    True\n",
              "67     True\n",
              "362    True\n",
              "102    True\n",
              "       ... \n",
              "55     True\n",
              "65     True\n",
              "16     True\n",
              "153    True\n",
              "225    True\n",
              "Name: Chance of Admit , Length: 80, dtype: bool"
            ]
          },
          "metadata": {},
          "execution_count": 7
        }
      ]
    }
  ]
}