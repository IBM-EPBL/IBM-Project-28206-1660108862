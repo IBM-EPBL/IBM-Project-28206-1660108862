{
  "nbformat": 4,
  "nbformat_minor": 0,
  "metadata": {
    "colab": {
      "provenance": []
    },
    "kernelspec": {
      "name": "python3",
      "display_name": "Python 3"
    },
    "language_info": {
      "name": "python"
    }
  },
  "cells": [
    {
      "cell_type": "markdown",
      "source": [
        "**Training and Testing the Model**"
      ],
      "metadata": {
        "id": "2SBKrtr8indQ"
      }
    },
    {
      "cell_type": "code",
      "execution_count": 1,
      "metadata": {
        "id": "0DY5989viB8D"
      },
      "outputs": [],
      "source": [
        "import numpy as np\n",
        "import pandas as pd\n",
        "import matplotlib.pyplot as plt\n",
        "import seaborn as sns"
      ]
    },
    {
      "cell_type": "code",
      "source": [
        "data = pd.read_csv(r\"Admission_Predict.csv\")\n",
        "x = data.iloc[:, :-1]\n",
        "y = data['Chance of Admit ']"
      ],
      "metadata": {
        "id": "8dwTHB3Mi2j1"
      },
      "execution_count": 2,
      "outputs": []
    },
    {
      "cell_type": "code",
      "source": [
        "from sklearn.model_selection import train_test_split \n",
        "x_train, x_test, y_train, y_test = train_test_split(x, y, test_size=0.2, random_state=50)"
      ],
      "metadata": {
        "id": "MAA0zlMZi8Y1"
      },
      "execution_count": 3,
      "outputs": []
    },
    {
      "cell_type": "code",
      "source": [
        "from sklearn.ensemble import GradientBoostingRegressor\n",
        "model = GradientBoostingRegressor()\n",
        "model.fit(x_train,y_train)"
      ],
      "metadata": {
        "colab": {
          "base_uri": "https://localhost:8080/"
        },
        "id": "V-8_MYvAi-it",
        "outputId": "f10ab946-6c3d-4129-eeb4-6586875d5efd"
      },
      "execution_count": 4,
      "outputs": [
        {
          "output_type": "execute_result",
          "data": {
            "text/plain": [
              "GradientBoostingRegressor()"
            ]
          },
          "metadata": {},
          "execution_count": 4
        }
      ]
    },
    {
      "cell_type": "code",
      "source": [
        "model.score(x_test,y_test)"
      ],
      "metadata": {
        "colab": {
          "base_uri": "https://localhost:8080/"
        },
        "id": "1VmyiiCdjAjU",
        "outputId": "68bd078e-b00a-41bc-bec1-733c2aad3f61"
      },
      "execution_count": 5,
      "outputs": [
        {
          "output_type": "execute_result",
          "data": {
            "text/plain": [
              "0.8037029481856469"
            ]
          },
          "metadata": {},
          "execution_count": 5
        }
      ]
    },
    {
      "cell_type": "code",
      "source": [
        "from sklearn.metrics import accuracy_score\n",
        "y_predict=model.predict(x_test)"
      ],
      "metadata": {
        "id": "ioW86f8JjCyk"
      },
      "execution_count": 6,
      "outputs": []
    },
    {
      "cell_type": "code",
      "source": [
        "y_train = (y_train>0.5)\n",
        "y_test = (y_test>0.5)"
      ],
      "metadata": {
        "id": "sE65VA9KjFbN"
      },
      "execution_count": 7,
      "outputs": []
    },
    {
      "cell_type": "code",
      "source": [
        "y_train"
      ],
      "metadata": {
        "colab": {
          "base_uri": "https://localhost:8080/"
        },
        "id": "0hq1iyfxjM8F",
        "outputId": "8c9f6ea5-97c9-4ff7-c5bc-dd3bfc6ed9cb"
      },
      "execution_count": 9,
      "outputs": [
        {
          "output_type": "execute_result",
          "data": {
            "text/plain": [
              "145    True\n",
              "387    True\n",
              "44     True\n",
              "138    True\n",
              "43     True\n",
              "       ... \n",
              "132    True\n",
              "289    True\n",
              "109    True\n",
              "395    True\n",
              "176    True\n",
              "Name: Chance of Admit , Length: 320, dtype: bool"
            ]
          },
          "metadata": {},
          "execution_count": 9
        }
      ]
    },
    {
      "cell_type": "code",
      "source": [
        "y_test"
      ],
      "metadata": {
        "colab": {
          "base_uri": "https://localhost:8080/"
        },
        "id": "ZLnRN2vjjPqt",
        "outputId": "67dd5847-145c-4ef8-9456-dd210839696f"
      },
      "execution_count": 10,
      "outputs": [
        {
          "output_type": "execute_result",
          "data": {
            "text/plain": [
              "146    True\n",
              "332    True\n",
              "67     True\n",
              "362    True\n",
              "102    True\n",
              "       ... \n",
              "55     True\n",
              "65     True\n",
              "16     True\n",
              "153    True\n",
              "225    True\n",
              "Name: Chance of Admit , Length: 80, dtype: bool"
            ]
          },
          "metadata": {},
          "execution_count": 10
        }
      ]
    },
    {
      "cell_type": "code",
      "source": [
        "from sklearn.linear_model._logistic import LogisticRegression\n",
        "lore = LogisticRegression(random_state=0, max_iter=1000)\n",
        "lr_model = lore.fit(x_train, y_train)\n",
        "y_pred = lr_model.predict(x_test)"
      ],
      "metadata": {
        "id": "M11cOfvLjHf1"
      },
      "execution_count": 8,
      "outputs": []
    }
  ]
}