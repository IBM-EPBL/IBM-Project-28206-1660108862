{
  "nbformat": 4,
  "nbformat_minor": 0,
  "metadata": {
    "colab": {
      "provenance": []
    },
    "kernelspec": {
      "name": "python3",
      "display_name": "Python 3"
    },
    "language_info": {
      "name": "python"
    }
  },
  "cells": [
    {
      "cell_type": "markdown",
      "source": [
        "# Comparing Some Fundamental Regression Methods On Admission Prediction Data"
      ],
      "metadata": {
        "id": "2EAskD6SA0E7"
      }
    },
    {
      "cell_type": "markdown",
      "source": [
        "There are lots of regression methods to predict data such as Linear Regression, Decision Tree Regression and so on .In this notebook ,we will try tp predict the \"Chance of Admit\" data by using someof fundamental regression methods ,which are Linear Regression ,Multiply Linear Regression Decision Tree Regression and Rondom Forest Regression"
      ],
      "metadata": {
        "id": "GhgVvb6QA44f"
      }
    },
    {
      "cell_type": "markdown",
      "source": [
        "**Importing the required libraries**"
      ],
      "metadata": {
        "id": "-KaKhugGA92o"
      }
    },
    {
      "cell_type": "code",
      "execution_count": null,
      "metadata": {
        "id": "bI0gaRS0p-Ht"
      },
      "outputs": [],
      "source": [
        "import numpy as np\n",
        "import pandas as pd\n",
        "import seaborn as sns\n",
        "import matplotlib.pyplot as plt\n",
        "import warnings\n",
        "warnings.filterwarnings('ignore')\n",
        "%matplotlib inline"
      ]
    },
    {
      "cell_type": "markdown",
      "source": [
        "**Preparing the dataset**"
      ],
      "metadata": {
        "id": "aWtW5nnTBM2e"
      }
    },
    {
      "cell_type": "code",
      "source": [
        "df = pd.read_csv(r\"Admission_Predict.csv\")\n",
        "df.head()"
      ],
      "metadata": {
        "colab": {
          "base_uri": "https://localhost:8080/",
          "height": 206
        },
        "id": "J1gA06snp-9g",
        "outputId": "04ee9e39-8d40-4230-92b2-26413c852bcb"
      },
      "execution_count": null,
      "outputs": [
        {
          "output_type": "execute_result",
          "data": {
            "text/plain": [
              "   Serial No.  GRE Score  TOEFL Score  University Rating  SOP  LOR   CGPA  \\\n",
              "0           1        337          118                  4  4.5   4.5  9.65   \n",
              "1           2        324          107                  4  4.0   4.5  8.87   \n",
              "2           3        316          104                  3  3.0   3.5  8.00   \n",
              "3           4        322          110                  3  3.5   2.5  8.67   \n",
              "4           5        314          103                  2  2.0   3.0  8.21   \n",
              "\n",
              "   Research  Chance of Admit   \n",
              "0         1              0.92  \n",
              "1         1              0.76  \n",
              "2         1              0.72  \n",
              "3         1              0.80  \n",
              "4         0              0.65  "
            ],
            "text/html": [
              "\n",
              "  <div id=\"df-c094c8cc-99ab-43fc-90a3-51aad6233aec\">\n",
              "    <div class=\"colab-df-container\">\n",
              "      <div>\n",
              "<style scoped>\n",
              "    .dataframe tbody tr th:only-of-type {\n",
              "        vertical-align: middle;\n",
              "    }\n",
              "\n",
              "    .dataframe tbody tr th {\n",
              "        vertical-align: top;\n",
              "    }\n",
              "\n",
              "    .dataframe thead th {\n",
              "        text-align: right;\n",
              "    }\n",
              "</style>\n",
              "<table border=\"1\" class=\"dataframe\">\n",
              "  <thead>\n",
              "    <tr style=\"text-align: right;\">\n",
              "      <th></th>\n",
              "      <th>Serial No.</th>\n",
              "      <th>GRE Score</th>\n",
              "      <th>TOEFL Score</th>\n",
              "      <th>University Rating</th>\n",
              "      <th>SOP</th>\n",
              "      <th>LOR</th>\n",
              "      <th>CGPA</th>\n",
              "      <th>Research</th>\n",
              "      <th>Chance of Admit</th>\n",
              "    </tr>\n",
              "  </thead>\n",
              "  <tbody>\n",
              "    <tr>\n",
              "      <th>0</th>\n",
              "      <td>1</td>\n",
              "      <td>337</td>\n",
              "      <td>118</td>\n",
              "      <td>4</td>\n",
              "      <td>4.5</td>\n",
              "      <td>4.5</td>\n",
              "      <td>9.65</td>\n",
              "      <td>1</td>\n",
              "      <td>0.92</td>\n",
              "    </tr>\n",
              "    <tr>\n",
              "      <th>1</th>\n",
              "      <td>2</td>\n",
              "      <td>324</td>\n",
              "      <td>107</td>\n",
              "      <td>4</td>\n",
              "      <td>4.0</td>\n",
              "      <td>4.5</td>\n",
              "      <td>8.87</td>\n",
              "      <td>1</td>\n",
              "      <td>0.76</td>\n",
              "    </tr>\n",
              "    <tr>\n",
              "      <th>2</th>\n",
              "      <td>3</td>\n",
              "      <td>316</td>\n",
              "      <td>104</td>\n",
              "      <td>3</td>\n",
              "      <td>3.0</td>\n",
              "      <td>3.5</td>\n",
              "      <td>8.00</td>\n",
              "      <td>1</td>\n",
              "      <td>0.72</td>\n",
              "    </tr>\n",
              "    <tr>\n",
              "      <th>3</th>\n",
              "      <td>4</td>\n",
              "      <td>322</td>\n",
              "      <td>110</td>\n",
              "      <td>3</td>\n",
              "      <td>3.5</td>\n",
              "      <td>2.5</td>\n",
              "      <td>8.67</td>\n",
              "      <td>1</td>\n",
              "      <td>0.80</td>\n",
              "    </tr>\n",
              "    <tr>\n",
              "      <th>4</th>\n",
              "      <td>5</td>\n",
              "      <td>314</td>\n",
              "      <td>103</td>\n",
              "      <td>2</td>\n",
              "      <td>2.0</td>\n",
              "      <td>3.0</td>\n",
              "      <td>8.21</td>\n",
              "      <td>0</td>\n",
              "      <td>0.65</td>\n",
              "    </tr>\n",
              "  </tbody>\n",
              "</table>\n",
              "</div>\n",
              "      <button class=\"colab-df-convert\" onclick=\"convertToInteractive('df-c094c8cc-99ab-43fc-90a3-51aad6233aec')\"\n",
              "              title=\"Convert this dataframe to an interactive table.\"\n",
              "              style=\"display:none;\">\n",
              "        \n",
              "  <svg xmlns=\"http://www.w3.org/2000/svg\" height=\"24px\"viewBox=\"0 0 24 24\"\n",
              "       width=\"24px\">\n",
              "    <path d=\"M0 0h24v24H0V0z\" fill=\"none\"/>\n",
              "    <path d=\"M18.56 5.44l.94 2.06.94-2.06 2.06-.94-2.06-.94-.94-2.06-.94 2.06-2.06.94zm-11 1L8.5 8.5l.94-2.06 2.06-.94-2.06-.94L8.5 2.5l-.94 2.06-2.06.94zm10 10l.94 2.06.94-2.06 2.06-.94-2.06-.94-.94-2.06-.94 2.06-2.06.94z\"/><path d=\"M17.41 7.96l-1.37-1.37c-.4-.4-.92-.59-1.43-.59-.52 0-1.04.2-1.43.59L10.3 9.45l-7.72 7.72c-.78.78-.78 2.05 0 2.83L4 21.41c.39.39.9.59 1.41.59.51 0 1.02-.2 1.41-.59l7.78-7.78 2.81-2.81c.8-.78.8-2.07 0-2.86zM5.41 20L4 18.59l7.72-7.72 1.47 1.35L5.41 20z\"/>\n",
              "  </svg>\n",
              "      </button>\n",
              "      \n",
              "  <style>\n",
              "    .colab-df-container {\n",
              "      display:flex;\n",
              "      flex-wrap:wrap;\n",
              "      gap: 12px;\n",
              "    }\n",
              "\n",
              "    .colab-df-convert {\n",
              "      background-color: #E8F0FE;\n",
              "      border: none;\n",
              "      border-radius: 50%;\n",
              "      cursor: pointer;\n",
              "      display: none;\n",
              "      fill: #1967D2;\n",
              "      height: 32px;\n",
              "      padding: 0 0 0 0;\n",
              "      width: 32px;\n",
              "    }\n",
              "\n",
              "    .colab-df-convert:hover {\n",
              "      background-color: #E2EBFA;\n",
              "      box-shadow: 0px 1px 2px rgba(60, 64, 67, 0.3), 0px 1px 3px 1px rgba(60, 64, 67, 0.15);\n",
              "      fill: #174EA6;\n",
              "    }\n",
              "\n",
              "    [theme=dark] .colab-df-convert {\n",
              "      background-color: #3B4455;\n",
              "      fill: #D2E3FC;\n",
              "    }\n",
              "\n",
              "    [theme=dark] .colab-df-convert:hover {\n",
              "      background-color: #434B5C;\n",
              "      box-shadow: 0px 1px 3px 1px rgba(0, 0, 0, 0.15);\n",
              "      filter: drop-shadow(0px 1px 2px rgba(0, 0, 0, 0.3));\n",
              "      fill: #FFFFFF;\n",
              "    }\n",
              "  </style>\n",
              "\n",
              "      <script>\n",
              "        const buttonEl =\n",
              "          document.querySelector('#df-c094c8cc-99ab-43fc-90a3-51aad6233aec button.colab-df-convert');\n",
              "        buttonEl.style.display =\n",
              "          google.colab.kernel.accessAllowed ? 'block' : 'none';\n",
              "\n",
              "        async function convertToInteractive(key) {\n",
              "          const element = document.querySelector('#df-c094c8cc-99ab-43fc-90a3-51aad6233aec');\n",
              "          const dataTable =\n",
              "            await google.colab.kernel.invokeFunction('convertToInteractive',\n",
              "                                                     [key], {});\n",
              "          if (!dataTable) return;\n",
              "\n",
              "          const docLinkHtml = 'Like what you see? Visit the ' +\n",
              "            '<a target=\"_blank\" href=https://colab.research.google.com/notebooks/data_table.ipynb>data table notebook</a>'\n",
              "            + ' to learn more about interactive tables.';\n",
              "          element.innerHTML = '';\n",
              "          dataTable['output_type'] = 'display_data';\n",
              "          await google.colab.output.renderOutput(dataTable, element);\n",
              "          const docLink = document.createElement('div');\n",
              "          docLink.innerHTML = docLinkHtml;\n",
              "          element.appendChild(docLink);\n",
              "        }\n",
              "      </script>\n",
              "    </div>\n",
              "  </div>\n",
              "  "
            ]
          },
          "metadata": {},
          "execution_count": 2
        }
      ]
    },
    {
      "cell_type": "markdown",
      "source": [
        "**Creating a correlation matrix**"
      ],
      "metadata": {
        "id": "cLOYyhL9BZjN"
      }
    },
    {
      "cell_type": "code",
      "source": [
        "corr_matrix = df.corr()\n",
        "corr_matrix"
      ],
      "metadata": {
        "colab": {
          "base_uri": "https://localhost:8080/",
          "height": 332
        },
        "id": "T3VY-PAEqOiH",
        "outputId": "34de557e-f90b-4250-e999-31e148dea46b"
      },
      "execution_count": null,
      "outputs": [
        {
          "output_type": "execute_result",
          "data": {
            "text/plain": [
              "                   Serial No.  GRE Score  TOEFL Score  University Rating  \\\n",
              "Serial No.           1.000000  -0.097526    -0.147932          -0.169948   \n",
              "GRE Score           -0.097526   1.000000     0.835977           0.668976   \n",
              "TOEFL Score         -0.147932   0.835977     1.000000           0.695590   \n",
              "University Rating   -0.169948   0.668976     0.695590           1.000000   \n",
              "SOP                 -0.166932   0.612831     0.657981           0.734523   \n",
              "LOR                 -0.088221   0.557555     0.567721           0.660123   \n",
              "CGPA                -0.045608   0.833060     0.828417           0.746479   \n",
              "Research            -0.063138   0.580391     0.489858           0.447783   \n",
              "Chance of Admit      0.042336   0.802610     0.791594           0.711250   \n",
              "\n",
              "                        SOP      LOR       CGPA  Research  Chance of Admit   \n",
              "Serial No.        -0.166932 -0.088221 -0.045608 -0.063138          0.042336  \n",
              "GRE Score          0.612831  0.557555  0.833060  0.580391          0.802610  \n",
              "TOEFL Score        0.657981  0.567721  0.828417  0.489858          0.791594  \n",
              "University Rating  0.734523  0.660123  0.746479  0.447783          0.711250  \n",
              "SOP                1.000000  0.729593  0.718144  0.444029          0.675732  \n",
              "LOR                0.729593  1.000000  0.670211  0.396859          0.669889  \n",
              "CGPA               0.718144  0.670211  1.000000  0.521654          0.873289  \n",
              "Research           0.444029  0.396859  0.521654  1.000000          0.553202  \n",
              "Chance of Admit    0.675732  0.669889  0.873289  0.553202          1.000000  "
            ],
            "text/html": [
              "\n",
              "  <div id=\"df-5326ff46-3e53-47aa-975f-89e392db7c68\">\n",
              "    <div class=\"colab-df-container\">\n",
              "      <div>\n",
              "<style scoped>\n",
              "    .dataframe tbody tr th:only-of-type {\n",
              "        vertical-align: middle;\n",
              "    }\n",
              "\n",
              "    .dataframe tbody tr th {\n",
              "        vertical-align: top;\n",
              "    }\n",
              "\n",
              "    .dataframe thead th {\n",
              "        text-align: right;\n",
              "    }\n",
              "</style>\n",
              "<table border=\"1\" class=\"dataframe\">\n",
              "  <thead>\n",
              "    <tr style=\"text-align: right;\">\n",
              "      <th></th>\n",
              "      <th>Serial No.</th>\n",
              "      <th>GRE Score</th>\n",
              "      <th>TOEFL Score</th>\n",
              "      <th>University Rating</th>\n",
              "      <th>SOP</th>\n",
              "      <th>LOR</th>\n",
              "      <th>CGPA</th>\n",
              "      <th>Research</th>\n",
              "      <th>Chance of Admit</th>\n",
              "    </tr>\n",
              "  </thead>\n",
              "  <tbody>\n",
              "    <tr>\n",
              "      <th>Serial No.</th>\n",
              "      <td>1.000000</td>\n",
              "      <td>-0.097526</td>\n",
              "      <td>-0.147932</td>\n",
              "      <td>-0.169948</td>\n",
              "      <td>-0.166932</td>\n",
              "      <td>-0.088221</td>\n",
              "      <td>-0.045608</td>\n",
              "      <td>-0.063138</td>\n",
              "      <td>0.042336</td>\n",
              "    </tr>\n",
              "    <tr>\n",
              "      <th>GRE Score</th>\n",
              "      <td>-0.097526</td>\n",
              "      <td>1.000000</td>\n",
              "      <td>0.835977</td>\n",
              "      <td>0.668976</td>\n",
              "      <td>0.612831</td>\n",
              "      <td>0.557555</td>\n",
              "      <td>0.833060</td>\n",
              "      <td>0.580391</td>\n",
              "      <td>0.802610</td>\n",
              "    </tr>\n",
              "    <tr>\n",
              "      <th>TOEFL Score</th>\n",
              "      <td>-0.147932</td>\n",
              "      <td>0.835977</td>\n",
              "      <td>1.000000</td>\n",
              "      <td>0.695590</td>\n",
              "      <td>0.657981</td>\n",
              "      <td>0.567721</td>\n",
              "      <td>0.828417</td>\n",
              "      <td>0.489858</td>\n",
              "      <td>0.791594</td>\n",
              "    </tr>\n",
              "    <tr>\n",
              "      <th>University Rating</th>\n",
              "      <td>-0.169948</td>\n",
              "      <td>0.668976</td>\n",
              "      <td>0.695590</td>\n",
              "      <td>1.000000</td>\n",
              "      <td>0.734523</td>\n",
              "      <td>0.660123</td>\n",
              "      <td>0.746479</td>\n",
              "      <td>0.447783</td>\n",
              "      <td>0.711250</td>\n",
              "    </tr>\n",
              "    <tr>\n",
              "      <th>SOP</th>\n",
              "      <td>-0.166932</td>\n",
              "      <td>0.612831</td>\n",
              "      <td>0.657981</td>\n",
              "      <td>0.734523</td>\n",
              "      <td>1.000000</td>\n",
              "      <td>0.729593</td>\n",
              "      <td>0.718144</td>\n",
              "      <td>0.444029</td>\n",
              "      <td>0.675732</td>\n",
              "    </tr>\n",
              "    <tr>\n",
              "      <th>LOR</th>\n",
              "      <td>-0.088221</td>\n",
              "      <td>0.557555</td>\n",
              "      <td>0.567721</td>\n",
              "      <td>0.660123</td>\n",
              "      <td>0.729593</td>\n",
              "      <td>1.000000</td>\n",
              "      <td>0.670211</td>\n",
              "      <td>0.396859</td>\n",
              "      <td>0.669889</td>\n",
              "    </tr>\n",
              "    <tr>\n",
              "      <th>CGPA</th>\n",
              "      <td>-0.045608</td>\n",
              "      <td>0.833060</td>\n",
              "      <td>0.828417</td>\n",
              "      <td>0.746479</td>\n",
              "      <td>0.718144</td>\n",
              "      <td>0.670211</td>\n",
              "      <td>1.000000</td>\n",
              "      <td>0.521654</td>\n",
              "      <td>0.873289</td>\n",
              "    </tr>\n",
              "    <tr>\n",
              "      <th>Research</th>\n",
              "      <td>-0.063138</td>\n",
              "      <td>0.580391</td>\n",
              "      <td>0.489858</td>\n",
              "      <td>0.447783</td>\n",
              "      <td>0.444029</td>\n",
              "      <td>0.396859</td>\n",
              "      <td>0.521654</td>\n",
              "      <td>1.000000</td>\n",
              "      <td>0.553202</td>\n",
              "    </tr>\n",
              "    <tr>\n",
              "      <th>Chance of Admit</th>\n",
              "      <td>0.042336</td>\n",
              "      <td>0.802610</td>\n",
              "      <td>0.791594</td>\n",
              "      <td>0.711250</td>\n",
              "      <td>0.675732</td>\n",
              "      <td>0.669889</td>\n",
              "      <td>0.873289</td>\n",
              "      <td>0.553202</td>\n",
              "      <td>1.000000</td>\n",
              "    </tr>\n",
              "  </tbody>\n",
              "</table>\n",
              "</div>\n",
              "      <button class=\"colab-df-convert\" onclick=\"convertToInteractive('df-5326ff46-3e53-47aa-975f-89e392db7c68')\"\n",
              "              title=\"Convert this dataframe to an interactive table.\"\n",
              "              style=\"display:none;\">\n",
              "        \n",
              "  <svg xmlns=\"http://www.w3.org/2000/svg\" height=\"24px\"viewBox=\"0 0 24 24\"\n",
              "       width=\"24px\">\n",
              "    <path d=\"M0 0h24v24H0V0z\" fill=\"none\"/>\n",
              "    <path d=\"M18.56 5.44l.94 2.06.94-2.06 2.06-.94-2.06-.94-.94-2.06-.94 2.06-2.06.94zm-11 1L8.5 8.5l.94-2.06 2.06-.94-2.06-.94L8.5 2.5l-.94 2.06-2.06.94zm10 10l.94 2.06.94-2.06 2.06-.94-2.06-.94-.94-2.06-.94 2.06-2.06.94z\"/><path d=\"M17.41 7.96l-1.37-1.37c-.4-.4-.92-.59-1.43-.59-.52 0-1.04.2-1.43.59L10.3 9.45l-7.72 7.72c-.78.78-.78 2.05 0 2.83L4 21.41c.39.39.9.59 1.41.59.51 0 1.02-.2 1.41-.59l7.78-7.78 2.81-2.81c.8-.78.8-2.07 0-2.86zM5.41 20L4 18.59l7.72-7.72 1.47 1.35L5.41 20z\"/>\n",
              "  </svg>\n",
              "      </button>\n",
              "      \n",
              "  <style>\n",
              "    .colab-df-container {\n",
              "      display:flex;\n",
              "      flex-wrap:wrap;\n",
              "      gap: 12px;\n",
              "    }\n",
              "\n",
              "    .colab-df-convert {\n",
              "      background-color: #E8F0FE;\n",
              "      border: none;\n",
              "      border-radius: 50%;\n",
              "      cursor: pointer;\n",
              "      display: none;\n",
              "      fill: #1967D2;\n",
              "      height: 32px;\n",
              "      padding: 0 0 0 0;\n",
              "      width: 32px;\n",
              "    }\n",
              "\n",
              "    .colab-df-convert:hover {\n",
              "      background-color: #E2EBFA;\n",
              "      box-shadow: 0px 1px 2px rgba(60, 64, 67, 0.3), 0px 1px 3px 1px rgba(60, 64, 67, 0.15);\n",
              "      fill: #174EA6;\n",
              "    }\n",
              "\n",
              "    [theme=dark] .colab-df-convert {\n",
              "      background-color: #3B4455;\n",
              "      fill: #D2E3FC;\n",
              "    }\n",
              "\n",
              "    [theme=dark] .colab-df-convert:hover {\n",
              "      background-color: #434B5C;\n",
              "      box-shadow: 0px 1px 3px 1px rgba(0, 0, 0, 0.15);\n",
              "      filter: drop-shadow(0px 1px 2px rgba(0, 0, 0, 0.3));\n",
              "      fill: #FFFFFF;\n",
              "    }\n",
              "  </style>\n",
              "\n",
              "      <script>\n",
              "        const buttonEl =\n",
              "          document.querySelector('#df-5326ff46-3e53-47aa-975f-89e392db7c68 button.colab-df-convert');\n",
              "        buttonEl.style.display =\n",
              "          google.colab.kernel.accessAllowed ? 'block' : 'none';\n",
              "\n",
              "        async function convertToInteractive(key) {\n",
              "          const element = document.querySelector('#df-5326ff46-3e53-47aa-975f-89e392db7c68');\n",
              "          const dataTable =\n",
              "            await google.colab.kernel.invokeFunction('convertToInteractive',\n",
              "                                                     [key], {});\n",
              "          if (!dataTable) return;\n",
              "\n",
              "          const docLinkHtml = 'Like what you see? Visit the ' +\n",
              "            '<a target=\"_blank\" href=https://colab.research.google.com/notebooks/data_table.ipynb>data table notebook</a>'\n",
              "            + ' to learn more about interactive tables.';\n",
              "          element.innerHTML = '';\n",
              "          dataTable['output_type'] = 'display_data';\n",
              "          await google.colab.output.renderOutput(dataTable, element);\n",
              "          const docLink = document.createElement('div');\n",
              "          docLink.innerHTML = docLinkHtml;\n",
              "          element.appendChild(docLink);\n",
              "        }\n",
              "      </script>\n",
              "    </div>\n",
              "  </div>\n",
              "  "
            ]
          },
          "metadata": {},
          "execution_count": 3
        }
      ]
    },
    {
      "cell_type": "markdown",
      "source": [
        "When looking at the data and correlation matrix, it seems that \"Chance of Admit\" values depend on lots of variables. To observe the effects of columns on \"Chance of Admit\" values in detail, so creating a correlation graph."
      ],
      "metadata": {
        "id": "vRs5GT9dBifc"
      }
    },
    {
      "cell_type": "code",
      "source": [
        "#plotting the correlation matrix as a heatmap\n",
        "\n",
        "fig = plt.figure(figsize=(12,8))\n",
        "sns.heatmap(corr_matrix,annot=True)\n",
        "plt.show()"
      ],
      "metadata": {
        "colab": {
          "base_uri": "https://localhost:8080/",
          "height": 563
        },
        "id": "bakq31RwqRs2",
        "outputId": "7550999f-5947-4908-a48a-06d20fe6cebd"
      },
      "execution_count": null,
      "outputs": [
        {
          "output_type": "display_data",
          "data": {
            "text/plain": [
              "<Figure size 864x576 with 2 Axes>"
            ],
            "image/png": "[encoded data removed]"
          },
          "metadata": {
            "needs_background": "light"
          }
        }
      ]
    },
    {
      "cell_type": "markdown",
      "source": [
        "As seen, there are direct proportions between \"Chance of Admit\" data and the other columns. In order to observe these direct proportions more clearly, we will visualize the data."
      ],
      "metadata": {
        "id": "hFpn8Ur6BnJD"
      }
    },
    {
      "cell_type": "code",
      "source": [
        "sns.relplot(data=df,x=\"GRE Score\",y=\"Chance of Admit \",hue=\"Research\",\n",
        "            palette=\"Set1\",alpha=0.7)\n",
        "plt.title(\"GRE Score vs Chance of Admit\")\n",
        "plt.show()"
      ],
      "metadata": {
        "colab": {
          "base_uri": "https://localhost:8080/",
          "height": 382
        },
        "id": "of0YjdHmqUYG",
        "outputId": "0d5fe913-0638-4eda-e3d8-b3adfbb34aa8"
      },
      "execution_count": null,
      "outputs": [
        {
          "output_type": "display_data",
          "data": {
            "text/plain": [
              "<Figure size 413.75x360 with 1 Axes>"
            ],
            "image/png": "[encoded data removed]"
          },
          "metadata": {
            "needs_background": "light"
          }
        }
      ]
    },
    {
      "cell_type": "code",
      "source": [
        "sns.relplot(data=df,x=\"CGPA\",y=\"Chance of Admit \",hue=\"Research\",\n",
        "            palette=\"Set2\",alpha=0.7)\n",
        "plt.title(\"CGPA vs Chance of Admit\")\n",
        "plt.show()"
      ],
      "metadata": {
        "colab": {
          "base_uri": "https://localhost:8080/",
          "height": 382
        },
        "id": "VRHLXAOfqXhe",
        "outputId": "5bae351d-83b0-499e-9bed-433eb8efa40e"
      },
      "execution_count": null,
      "outputs": [
        {
          "output_type": "display_data",
          "data": {
            "text/plain": [
              "<Figure size 413.75x360 with 1 Axes>"
            ],
            "image/png": "[encoded data removed]"
          },
          "metadata": {
            "needs_background": "light"
          }
        }
      ]
    },
    {
      "cell_type": "code",
      "source": [
        "sns.relplot(data=df,x=\"TOEFL Score\",y=\"Chance of Admit \",hue=\"Research\",\n",
        "            palette=\"Set1\",alpha=0.7,kind=\"line\",ci=None)\n",
        "plt.title(\"TOEFL Score vs Chance of Admit\")\n",
        "plt.show()"
      ],
      "metadata": {
        "colab": {
          "base_uri": "https://localhost:8080/",
          "height": 385
        },
        "id": "g5aKJ9kyqZd_",
        "outputId": "659f9fb6-0de0-47c6-b19d-fbfc5695568e"
      },
      "execution_count": null,
      "outputs": [
        {
          "output_type": "display_data",
          "data": {
            "text/plain": [
              "<Figure size 413.75x360 with 1 Axes>"
            ],
            "image/png": "[encoded data removed]"
          },
          "metadata": {
            "needs_background": "light"
          }
        }
      ]
    },
    {
      "cell_type": "code",
      "source": [
        "sns.barplot(data=df,x=\"SOP\",y=\"Chance of Admit \",\n",
        "            palette=\"Set2\",hue=\"Research\")\n",
        "plt.title(\"SOP vs Chance of Admit\")\n",
        "plt.show()"
      ],
      "metadata": {
        "colab": {
          "base_uri": "https://localhost:8080/",
          "height": 295
        },
        "id": "3eM4OBJrqbjt",
        "outputId": "e188ff9d-e9a5-459c-f2b4-d5584b6ee099"
      },
      "execution_count": null,
      "outputs": [
        {
          "output_type": "display_data",
          "data": {
            "text/plain": [
              "<Figure size 432x288 with 1 Axes>"
            ],
            "image/png": "[encoded data removed]"
          },
          "metadata": {
            "needs_background": "light"
          }
        }
      ]
    },
    {
      "cell_type": "code",
      "source": [
        "sns.barplot(data=df,x=\"LOR \",y=\"Chance of Admit \",\n",
        "            palette=\"Set3\",hue=\"Research\")\n",
        "plt.title(\"LOR vs Chance of Admit\")\n",
        "plt.show()"
      ],
      "metadata": {
        "colab": {
          "base_uri": "https://localhost:8080/",
          "height": 295
        },
        "id": "7YD_K63Vqedd",
        "outputId": "ecadb168-54ca-4d76-a5b0-b84a70f33f8a"
      },
      "execution_count": null,
      "outputs": [
        {
          "output_type": "display_data",
          "data": {
            "text/plain": [
              "<Figure size 432x288 with 1 Axes>"
            ],
            "image/png": "[encoded data removed]"
          },
          "metadata": {
            "needs_background": "light"
          }
        }
      ]
    },
    {
      "cell_type": "code",
      "source": [
        "sns.barplot(data=df,x=\"University Rating\",y=\"Chance of Admit \",\n",
        "            palette=\"Set1\")\n",
        "plt.title(\"University Rating vs Chance of Admit\")\n",
        "plt.show()"
      ],
      "metadata": {
        "colab": {
          "base_uri": "https://localhost:8080/",
          "height": 295
        },
        "id": "IKIB3_kbqg7l",
        "outputId": "d8299692-c80c-4aea-c560-71532b1a14c7"
      },
      "execution_count": null,
      "outputs": [
        {
          "output_type": "display_data",
          "data": {
            "text/plain": [
              "<Figure size 432x288 with 1 Axes>"
            ],
            "image/png": "[encoded data removed]"
          },
          "metadata": {
            "needs_background": "light"
          }
        }
      ]
    },
    {
      "cell_type": "markdown",
      "source": [
        "It was said that there are direct proportions between the columns and \"Chance of Admit\" data. Also, when observing the graphs, there are linear relationships between them. Therefore, using Linear Regression method may be suitable on the data, but since \"Chance of Admit\" data depends on more than one varible, it is more appropriate to imply Multiple Linear Regression method instead of Linear Regression method."
      ],
      "metadata": {
        "id": "pmsBS9QrB5fq"
      }
    },
    {
      "cell_type": "markdown",
      "source": [
        "**Importing the required libraries for regression analyzes**"
      ],
      "metadata": {
        "id": "zDdQJ-MLB8C6"
      }
    },
    {
      "cell_type": "code",
      "source": [
        "from sklearn.model_selection import train_test_split\n",
        "from sklearn.linear_model import LinearRegression\n",
        "from sklearn.tree import DecisionTreeRegressor\n",
        "from sklearn.ensemble import RandomForestRegressor\n",
        "from sklearn.metrics import r2_score"
      ],
      "metadata": {
        "id": "9S3GqPdDqjr9"
      },
      "execution_count": null,
      "outputs": []
    },
    {
      "cell_type": "markdown",
      "source": [
        "**Splitting the dataset into training and testing data**"
      ],
      "metadata": {
        "id": "UY8ZY2MmCB3Z"
      }
    },
    {
      "cell_type": "code",
      "source": [
        "x = df[[\"GRE Score\",\"TOEFL Score\",\"University Rating\",\"SOP\",\"LOR \",\"CGPA\", \"Research\"]]\n",
        "y = df[\"Chance of Admit \"].values.reshape(-1,1)\n",
        "\n",
        "x_train, x_test, y_train, y_test = train_test_split(x,y,test_size=0.2,random_state=42)"
      ],
      "metadata": {
        "id": "v-q9E03IqmFu"
      },
      "execution_count": null,
      "outputs": []
    },
    {
      "cell_type": "markdown",
      "source": [
        "**Multiple Linear Regression**"
      ],
      "metadata": {
        "id": "v6sgf-QFCGdA"
      }
    },
    {
      "cell_type": "code",
      "source": [
        "multiple_lin_reg = LinearRegression()\n",
        "multiple_lin_reg.fit(x_train,y_train)\n",
        "\n",
        "y_pred_mlr = multiple_lin_reg.predict(x_test)\n",
        "\n",
        "r2_score_mlr = r2_score(y_test,y_pred_mlr)\n",
        "print(\"Mutiple Linear Regression's Score = {:.3f}\".format(r2_score_mlr))"
      ],
      "metadata": {
        "colab": {
          "base_uri": "https://localhost:8080/"
        },
        "id": "5iK2LNhSqoMu",
        "outputId": "4ed44e86-3da8-490d-b995-080fb1c7bb6f"
      },
      "execution_count": null,
      "outputs": [
        {
          "output_type": "stream",
          "name": "stdout",
          "text": [
            "Mutiple Linear Regression's Score = 0.821\n"
          ]
        }
      ]
    },
    {
      "cell_type": "markdown",
      "source": [
        "**Decision Tree Regression**"
      ],
      "metadata": {
        "id": "S-1QEyEMCNgL"
      }
    },
    {
      "cell_type": "code",
      "source": [
        "#implying decision tree regression and determining its score\n",
        "\n",
        "tree_reg = DecisionTreeRegressor()\n",
        "tree_reg.fit(x_train,y_train)\n",
        "\n",
        "y_pred_tree = tree_reg.predict(x_test)\n",
        "\n",
        "r2_score_tree = r2_score(y_test,y_pred_tree)\n",
        "print(\"Decision Tree Regression's Score = {:.3f}\".format(r2_score_tree))"
      ],
      "metadata": {
        "colab": {
          "base_uri": "https://localhost:8080/"
        },
        "id": "tPTCg31JqqYt",
        "outputId": "7ba2c0e1-93e5-4b30-d339-78975600134b"
      },
      "execution_count": null,
      "outputs": [
        {
          "output_type": "stream",
          "name": "stdout",
          "text": [
            "Decision Tree Regression's Score = 0.685\n"
          ]
        }
      ]
    },
    {
      "cell_type": "markdown",
      "source": [
        "**Rondom Forest Regression**"
      ],
      "metadata": {
        "id": "hwP7OxQ3CSXI"
      }
    },
    {
      "cell_type": "code",
      "source": [
        "#implying random forest regression and determining its score\n",
        "\n",
        "ran_for_reg = RandomForestRegressor(n_estimators=100,random_state=42)\n",
        "ran_for_reg.fit(x_train,y_train)\n",
        "\n",
        "y_pred_rfr = ran_for_reg.predict(x_test)\n",
        "\n",
        "r2_score_rfr = r2_score(y_test,y_pred_rfr)\n",
        "print(\"Random Forest Regression's Score = {:.3f}\".format(r2_score_rfr))"
      ],
      "metadata": {
        "colab": {
          "base_uri": "https://localhost:8080/"
        },
        "id": "Z2-DN0F4qsvl",
        "outputId": "b9d90dc4-1202-4e8d-c0bc-d0565a33cecd"
      },
      "execution_count": null,
      "outputs": [
        {
          "output_type": "stream",
          "name": "stdout",
          "text": [
            "Random Forest Regression's Score = 0.807\n"
          ]
        }
      ]
    },
    {
      "cell_type": "markdown",
      "source": [
        "**Conclusion**"
      ],
      "metadata": {
        "id": "k4W8xni2Can5"
      }
    },
    {
      "cell_type": "markdown",
      "source": [
        "R^2 score is an indicator of accuracy of regression models, and the accuracy is measured as close to 1 of this value .Therefore , as seen ,Multiple Linear Regression Models is brtter than Decision Tree Regression and Random Forest Regression on this dataset when comparing their R^2 scores"
      ],
      "metadata": {
        "id": "5-KsiHFxCdWt"
      }
    },
    {
      "cell_type": "markdown",
      "source": [
        "**Persisting the Multiple Linear Regression Model in a Pickle File**"
      ],
      "metadata": {
        "id": "n2NILA9JHHqc"
      }
    },
    {
      "cell_type": "code",
      "source": [
        "import pickle\n",
        "pickle.dump(multiple_lin_reg,open(\"Multiple_Linear_Regression.pkl\",\"wb\"))"
      ],
      "metadata": {
        "id": "-w9P13rQHAw4"
      },
      "execution_count": 16,
      "outputs": []
    },
    {
      "cell_type": "markdown",
      "source": [
        "**Installing Ibm Watson Machine Learning**\n"
      ],
      "metadata": {
        "id": "a9XtDoU7NmTY"
      }
    },
    {
      "cell_type": "code",
      "source": [
        "!pip install -U ibm-watson-machine-learning"
      ],
      "metadata": {
        "colab": {
          "base_uri": "https://localhost:8080/"
        },
        "id": "K8fuwyqCIWuE",
        "outputId": "7a8f90a0-b1be-49cf-cd8f-06d56d80348a"
      },
      "execution_count": 20,
      "outputs": [
        {
          "output_type": "stream",
          "name": "stdout",
          "text": [
            "Looking in indexes: https://pypi.org/simple, https://us-python.pkg.dev/colab-wheels/public/simple/\n",
            "Requirement already satisfied: ibm-watson-machine-learning in /usr/local/lib/python3.7/dist-packages (1.0.257)\n",
            "Requirement already satisfied: pandas<1.5.0,>=0.24.2 in /usr/local/lib/python3.7/dist-packages (from ibm-watson-machine-learning) (1.3.5)\n",
            "Requirement already satisfied: urllib3 in /usr/local/lib/python3.7/dist-packages (from ibm-watson-machine-learning) (1.24.3)\n",
            "Requirement already satisfied: tabulate in /usr/local/lib/python3.7/dist-packages (from ibm-watson-machine-learning) (0.8.10)\n",
            "Requirement already satisfied: certifi in /usr/local/lib/python3.7/dist-packages (from ibm-watson-machine-learning) (2022.9.24)\n",
            "Requirement already satisfied: lomond in /usr/local/lib/python3.7/dist-packages (from ibm-watson-machine-learning) (0.3.3)\n",
            "Requirement already satisfied: packaging in /usr/local/lib/python3.7/dist-packages (from ibm-watson-machine-learning) (21.3)\n",
            "Requirement already satisfied: importlib-metadata in /usr/local/lib/python3.7/dist-packages (from ibm-watson-machine-learning) (4.13.0)\n",
            "Requirement already satisfied: ibm-cos-sdk==2.7.* in /usr/local/lib/python3.7/dist-packages (from ibm-watson-machine-learning) (2.7.0)\n",
            "Requirement already satisfied: requests in /usr/local/lib/python3.7/dist-packages (from ibm-watson-machine-learning) (2.23.0)\n",
            "Requirement already satisfied: ibm-cos-sdk-s3transfer==2.7.0 in /usr/local/lib/python3.7/dist-packages (from ibm-cos-sdk==2.7.*->ibm-watson-machine-learning) (2.7.0)\n",
            "Requirement already satisfied: ibm-cos-sdk-core==2.7.0 in /usr/local/lib/python3.7/dist-packages (from ibm-cos-sdk==2.7.*->ibm-watson-machine-learning) (2.7.0)\n",
            "Requirement already satisfied: jmespath<1.0.0,>=0.7.1 in /usr/local/lib/python3.7/dist-packages (from ibm-cos-sdk==2.7.*->ibm-watson-machine-learning) (0.10.0)\n",
            "Requirement already satisfied: docutils<0.16,>=0.10 in /usr/local/lib/python3.7/dist-packages (from ibm-cos-sdk-core==2.7.0->ibm-cos-sdk==2.7.*->ibm-watson-machine-learning) (0.15.2)\n",
            "Requirement already satisfied: python-dateutil<3.0.0,>=2.1 in /usr/local/lib/python3.7/dist-packages (from ibm-cos-sdk-core==2.7.0->ibm-cos-sdk==2.7.*->ibm-watson-machine-learning) (2.8.2)\n",
            "Requirement already satisfied: pytz>=2017.3 in /usr/local/lib/python3.7/dist-packages (from pandas<1.5.0,>=0.24.2->ibm-watson-machine-learning) (2022.6)\n",
            "Requirement already satisfied: numpy>=1.17.3 in /usr/local/lib/python3.7/dist-packages (from pandas<1.5.0,>=0.24.2->ibm-watson-machine-learning) (1.21.6)\n",
            "Requirement already satisfied: six>=1.5 in /usr/local/lib/python3.7/dist-packages (from python-dateutil<3.0.0,>=2.1->ibm-cos-sdk-core==2.7.0->ibm-cos-sdk==2.7.*->ibm-watson-machine-learning) (1.15.0)\n",
            "Requirement already satisfied: chardet<4,>=3.0.2 in /usr/local/lib/python3.7/dist-packages (from requests->ibm-watson-machine-learning) (3.0.4)\n",
            "Requirement already satisfied: idna<3,>=2.5 in /usr/local/lib/python3.7/dist-packages (from requests->ibm-watson-machine-learning) (2.10)\n",
            "Requirement already satisfied: typing-extensions>=3.6.4 in /usr/local/lib/python3.7/dist-packages (from importlib-metadata->ibm-watson-machine-learning) (4.1.1)\n",
            "Requirement already satisfied: zipp>=0.5 in /usr/local/lib/python3.7/dist-packages (from importlib-metadata->ibm-watson-machine-learning) (3.10.0)\n",
            "Requirement already satisfied: pyparsing!=3.0.5,>=2.0.2 in /usr/local/lib/python3.7/dist-packages (from packaging->ibm-watson-machine-learning) (3.0.9)\n"
          ]
        }
      ]
    },
    {
      "cell_type": "markdown",
      "source": [
        "**Establising connection to IBM Watson ML sevice**"
      ],
      "metadata": {
        "id": "2QuysyM0NfJ-"
      }
    },
    {
      "cell_type": "code",
      "source": [
        "from ibm_watson_machine_learning import APIClient\n",
        "wml_credentials = {\n",
        "    \"url\": \"https://us-south.ml.cloud.ibm.com\",\n",
        "    \"apikey\": \"_hDwScptMbk3-JbFnu1eN9ygivIsbGuiTgBBWjHY3SiJ\"\n",
        "}\n",
        "\n",
        "client = APIClient(wml_credentials)"
      ],
      "metadata": {
        "colab": {
          "base_uri": "https://localhost:8080/"
        },
        "id": "YIvFPjUzLWGm",
        "outputId": "30601378-9135-48ea-c8d1-7dbb269ecc29"
      },
      "execution_count": 27,
      "outputs": [
        {
          "output_type": "stream",
          "name": "stdout",
          "text": [
            "Python 3.7 and 3.8 frameworks are deprecated and will be removed in a future release. Use Python 3.9 framework instead.\n"
          ]
        }
      ]
    },
    {
      "cell_type": "code",
      "source": [
        "client.spaces.list(1)"
      ],
      "metadata": {
        "colab": {
          "base_uri": "https://localhost:8080/"
        },
        "id": "TZEYpHMfLaxl",
        "outputId": "992036a9-75ab-415f-b85f-1b8e8941b931"
      },
      "execution_count": 28,
      "outputs": [
        {
          "output_type": "stream",
          "name": "stdout",
          "text": [
            "------------------------------------  -----  ------------------------\n",
            "ID                                    NAME   CREATED\n",
            "a3feb124-e708-409f-b679-5678c359b409  model  2022-11-16T18:13:02.313Z\n",
            "------------------------------------  -----  ------------------------\n"
          ]
        }
      ]
    },
    {
      "cell_type": "markdown",
      "source": [
        "**Creating Deployment Space**"
      ],
      "metadata": {
        "id": "7brl6nsONWs-"
      }
    },
    {
      "cell_type": "code",
      "source": [
        "def guid_from_space_name(client, space_name):\n",
        "    space = client.spaces.get_details()\n",
        "    return (next(item for item in space['resources'] if item['entity']['name'] == space_name)['metadata']['id'])"
      ],
      "metadata": {
        "id": "HCEcDKSYLkFF"
      },
      "execution_count": 29,
      "outputs": []
    },
    {
      "cell_type": "code",
      "source": [
        "space_uid = guid_from_space_name(client, 'model')\n",
        "print(\"Space UID = \" + space_uid)"
      ],
      "metadata": {
        "colab": {
          "base_uri": "https://localhost:8080/"
        },
        "id": "mK5EZH-QLmcM",
        "outputId": "cd3fba41-381d-4e44-8caf-a6254c84ea24"
      },
      "execution_count": 30,
      "outputs": [
        {
          "output_type": "stream",
          "name": "stdout",
          "text": [
            "Space UID = a3feb124-e708-409f-b679-5678c359b409\n"
          ]
        }
      ]
    },
    {
      "cell_type": "code",
      "source": [
        "client.set.default_space(space_uid)"
      ],
      "metadata": {
        "colab": {
          "base_uri": "https://localhost:8080/",
          "height": 35
        },
        "id": "grDGsTjTLpov",
        "outputId": "39e9ca04-e89d-40a4-fb4c-1f4602332173"
      },
      "execution_count": 31,
      "outputs": [
        {
          "output_type": "execute_result",
          "data": {
            "text/plain": [
              "'SUCCESS'"
            ],
            "application/vnd.google.colaboratory.intrinsic+json": {
              "type": "string"
            }
          },
          "metadata": {},
          "execution_count": 31
        }
      ]
    },
    {
      "cell_type": "code",
      "source": [
        "client.software_specifications.list()"
      ],
      "metadata": {
        "colab": {
          "base_uri": "https://localhost:8080/"
        },
        "id": "DK9Pas2hLtXl",
        "outputId": "2fe4fdb9-339b-4a70-dfb3-c90cb011afc1"
      },
      "execution_count": 32,
      "outputs": [
        {
          "output_type": "stream",
          "name": "stdout",
          "text": [
            "-----------------------------  ------------------------------------  ----\n",
            "NAME                           ASSET_ID                              TYPE\n",
            "default_py3.6                  0062b8c9-8b7d-44a0-a9b9-46c416adcbd9  base\n",
            "kernel-spark3.2-scala2.12      020d69ce-7ac1-5e68-ac1a-31189867356a  base\n",
            "pytorch-onnx_1.3-py3.7-edt     069ea134-3346-5748-b513-49120e15d288  base\n",
            "scikit-learn_0.20-py3.6        09c5a1d0-9c1e-4473-a344-eb7b665ff687  base\n",
            "spark-mllib_3.0-scala_2.12     09f4cff0-90a7-5899-b9ed-1ef348aebdee  base\n",
            "pytorch-onnx_rt22.1-py3.9      0b848dd4-e681-5599-be41-b5f6fccc6471  base\n",
            "ai-function_0.1-py3.6          0cdb0f1e-5376-4f4d-92dd-da3b69aa9bda  base\n",
            "shiny-r3.6                     0e6e79df-875e-4f24-8ae9-62dcc2148306  base\n",
            "tensorflow_2.4-py3.7-horovod   1092590a-307d-563d-9b62-4eb7d64b3f22  base\n",
            "pytorch_1.1-py3.6              10ac12d6-6b30-4ccd-8392-3e922c096a92  base\n",
            "tensorflow_1.15-py3.6-ddl      111e41b3-de2d-5422-a4d6-bf776828c4b7  base\n",
            "autoai-kb_rt22.2-py3.10        125b6d9a-5b1f-5e8d-972a-b251688ccf40  base\n",
            "runtime-22.1-py3.9             12b83a17-24d8-5082-900f-0ab31fbfd3cb  base\n",
            "scikit-learn_0.22-py3.6        154010fa-5b3b-4ac1-82af-4d5ee5abbc85  base\n",
            "default_r3.6                   1b70aec3-ab34-4b87-8aa0-a4a3c8296a36  base\n",
            "pytorch-onnx_1.3-py3.6         1bc6029a-cc97-56da-b8e0-39c3880dbbe7  base\n",
            "kernel-spark3.3-r3.6           1c9e5454-f216-59dd-a20e-474a5cdf5988  base\n",
            "pytorch-onnx_rt22.1-py3.9-edt  1d362186-7ad5-5b59-8b6c-9d0880bde37f  base\n",
            "tensorflow_2.1-py3.6           1eb25b84-d6ed-5dde-b6a5-3fbdf1665666  base\n",
            "spark-mllib_3.2                20047f72-0a98-58c7-9ff5-a77b012eb8f5  base\n",
            "tensorflow_2.4-py3.8-horovod   217c16f6-178f-56bf-824a-b19f20564c49  base\n",
            "runtime-22.1-py3.9-cuda        26215f05-08c3-5a41-a1b0-da66306ce658  base\n",
            "do_py3.8                       295addb5-9ef9-547e-9bf4-92ae3563e720  base\n",
            "autoai-ts_3.8-py3.8            2aa0c932-798f-5ae9-abd6-15e0c2402fb5  base\n",
            "tensorflow_1.15-py3.6          2b73a275-7cbf-420b-a912-eae7f436e0bc  base\n",
            "kernel-spark3.3-py3.9          2b7961e2-e3b1-5a8c-a491-482c8368839a  base\n",
            "pytorch_1.2-py3.6              2c8ef57d-2687-4b7d-acce-01f94976dac1  base\n",
            "spark-mllib_2.3                2e51f700-bca0-4b0d-88dc-5c6791338875  base\n",
            "pytorch-onnx_1.1-py3.6-edt     32983cea-3f32-4400-8965-dde874a8d67e  base\n",
            "spark-mllib_3.0-py37           36507ebe-8770-55ba-ab2a-eafe787600e9  base\n",
            "spark-mllib_2.4                390d21f8-e58b-4fac-9c55-d7ceda621326  base\n",
            "autoai-ts_rt22.2-py3.10        396b2e83-0953-5b86-9a55-7ce1628a406f  base\n",
            "xgboost_0.82-py3.6             39e31acd-5f30-41dc-ae44-60233c80306e  base\n",
            "pytorch-onnx_1.2-py3.6-edt     40589d0e-7019-4e28-8daa-fb03b6f4fe12  base\n",
            "pytorch-onnx_rt22.2-py3.10     40e73f55-783a-5535-b3fa-0c8b94291431  base\n",
            "default_r36py38                41c247d3-45f8-5a71-b065-8580229facf0  base\n",
            "autoai-ts_rt22.1-py3.9         4269d26e-07ba-5d40-8f66-2d495b0c71f7  base\n",
            "autoai-obm_3.0                 42b92e18-d9ab-567f-988a-4240ba1ed5f7  base\n",
            "pmml-3.0_4.3                   493bcb95-16f1-5bc5-bee8-81b8af80e9c7  base\n",
            "spark-mllib_2.4-r_3.6          49403dff-92e9-4c87-a3d7-a42d0021c095  base\n",
            "xgboost_0.90-py3.6             4ff8d6c2-1343-4c18-85e1-689c965304d3  base\n",
            "pytorch-onnx_1.1-py3.6         50f95b2a-bc16-43bb-bc94-b0bed208c60b  base\n",
            "autoai-ts_3.9-py3.8            52c57136-80fa-572e-8728-a5e7cbb42cde  base\n",
            "spark-mllib_2.4-scala_2.11     55a70f99-7320-4be5-9fb9-9edb5a443af5  base\n",
            "spark-mllib_3.0                5c1b0ca2-4977-5c2e-9439-ffd44ea8ffe9  base\n",
            "autoai-obm_2.0                 5c2e37fa-80b8-5e77-840f-d912469614ee  base\n",
            "spss-modeler_18.1              5c3cad7e-507f-4b2a-a9a3-ab53a21dee8b  base\n",
            "cuda-py3.8                     5d3232bf-c86b-5df4-a2cd-7bb870a1cd4e  base\n",
            "runtime-22.2-py3.10-xc         5e8cddff-db4a-5a6a-b8aa-2d4af9864dab  base\n",
            "autoai-kb_3.1-py3.7            632d4b22-10aa-5180-88f0-f52dfb6444d7  base\n",
            "-----------------------------  ------------------------------------  ----\n",
            "Note: Only first 50 records were displayed. To display more use 'limit' parameter.\n"
          ]
        }
      ]
    },
    {
      "cell_type": "markdown",
      "source": [
        "**Perpsisting The Multiple Linear Regression Model And Deploying It In Ibm cloud**"
      ],
      "metadata": {
        "id": "3eI2i4E2NJWp"
      }
    },
    {
      "cell_type": "code",
      "source": [
        "#Set Python Version\n",
        "software_spec_uid = client.software_specifications.get_uid_by_name(\"runtime-22.1-py3.9\")\n",
        "software_spec_uid"
      ],
      "metadata": {
        "colab": {
          "base_uri": "https://localhost:8080/",
          "height": 35
        },
        "id": "Cpuap2pdLwZs",
        "outputId": "b7d75966-0645-4215-e1bf-19b3d2bde8a9"
      },
      "execution_count": 33,
      "outputs": [
        {
          "output_type": "execute_result",
          "data": {
            "text/plain": [
              "'12b83a17-24d8-5082-900f-0ab31fbfd3cb'"
            ],
            "application/vnd.google.colaboratory.intrinsic+json": {
              "type": "string"
            }
          },
          "metadata": {},
          "execution_count": 33
        }
      ]
    },
    {
      "cell_type": "code",
      "source": [
        "model_details = client.repository.store_model(model = multiple_lin_reg, meta_props={\n",
        "    client.repository.ModelMetaNames.NAME: \"Data_Model\",\n",
        "    client.repository.ModelMetaNames.TYPE: \"scikit-learn_1.0\",\n",
        "    client.repository.ModelMetaNames.SOFTWARE_SPEC_UID: software_spec_uid\n",
        "}\n",
        ")\n",
        "\n",
        "model_id = client.repository.get_model_id(model_details)"
      ],
      "metadata": {
        "id": "zBBlfR-1MMg6"
      },
      "execution_count": 35,
      "outputs": []
    },
    {
      "cell_type": "code",
      "source": [
        "model_id"
      ],
      "metadata": {
        "colab": {
          "base_uri": "https://localhost:8080/",
          "height": 35
        },
        "id": "dwFcqMICMP9b",
        "outputId": "66cfe5f2-0125-4ac9-e12d-cf78a9fed955"
      },
      "execution_count": 36,
      "outputs": [
        {
          "output_type": "execute_result",
          "data": {
            "text/plain": [
              "'3c9064d4-65e1-4e7f-b8d1-1a06c6e2781d'"
            ],
            "application/vnd.google.colaboratory.intrinsic+json": {
              "type": "string"
            }
          },
          "metadata": {},
          "execution_count": 36
        }
      ]
    },
    {
      "cell_type": "code",
      "source": [
        "multiple_lin_reg.predict(x_train)"
      ],
      "metadata": {
        "colab": {
          "base_uri": "https://localhost:8080/"
        },
        "id": "5n6gDtk9MSNz",
        "outputId": "8c985193-e824-4d31-b02a-d68ef64fdc20"
      },
      "execution_count": 37,
      "outputs": [
        {
          "output_type": "execute_result",
          "data": {
            "text/plain": [
              "array([[0.74604196],\n",
              "       [0.73901061],\n",
              "       [0.99499641],\n",
              "       [0.71465428],\n",
              "       [0.58666289],\n",
              "       [0.70570088],\n",
              "       [0.79635618],\n",
              "       [0.72390065],\n",
              "       [0.91430317],\n",
              "       [0.65782685],\n",
              "       [0.60293691],\n",
              "       [0.84357917],\n",
              "       [0.49457813],\n",
              "       [0.72066904],\n",
              "       [0.61590143],\n",
              "       [0.63303675],\n",
              "       [0.73458027],\n",
              "       [0.77284896],\n",
              "       [0.54224384],\n",
              "       [0.7740777 ],\n",
              "       [0.67388358],\n",
              "       [0.68770413],\n",
              "       [0.71751013],\n",
              "       [0.79218791],\n",
              "       [0.74689676],\n",
              "       [0.60135562],\n",
              "       [0.6550291 ],\n",
              "       [0.65024192],\n",
              "       [0.64937148],\n",
              "       [0.61847543],\n",
              "       [0.71837168],\n",
              "       [0.62572932],\n",
              "       [0.56180503],\n",
              "       [0.58932197],\n",
              "       [0.82917531],\n",
              "       [0.60765804],\n",
              "       [0.45309083],\n",
              "       [0.88506537],\n",
              "       [0.772133  ],\n",
              "       [0.81857796],\n",
              "       [0.62930747],\n",
              "       [0.705755  ],\n",
              "       [0.6604701 ],\n",
              "       [0.44720981],\n",
              "       [0.9565852 ],\n",
              "       [0.79082941],\n",
              "       [0.7826623 ],\n",
              "       [0.65632426],\n",
              "       [0.6477194 ],\n",
              "       [0.8045823 ],\n",
              "       [0.84099099],\n",
              "       [0.74010959],\n",
              "       [0.78838667],\n",
              "       [0.77642522],\n",
              "       [0.78917766],\n",
              "       [0.72812151],\n",
              "       [0.80688713],\n",
              "       [0.68670226],\n",
              "       [0.80746179],\n",
              "       [0.82580413],\n",
              "       [0.65525331],\n",
              "       [0.76625765],\n",
              "       [0.55463779],\n",
              "       [0.712791  ],\n",
              "       [0.62615089],\n",
              "       [0.9370158 ],\n",
              "       [0.62973414],\n",
              "       [0.7734889 ],\n",
              "       [0.79633318],\n",
              "       [0.64020192],\n",
              "       [0.71136299],\n",
              "       [0.73601668],\n",
              "       [0.78718114],\n",
              "       [0.89732183],\n",
              "       [0.73342943],\n",
              "       [0.8260149 ],\n",
              "       [0.69121158],\n",
              "       [0.94834335],\n",
              "       [0.54704239],\n",
              "       [0.72239298],\n",
              "       [0.54302237],\n",
              "       [0.62343027],\n",
              "       [0.89165208],\n",
              "       [0.57357611],\n",
              "       [0.60371562],\n",
              "       [0.76531839],\n",
              "       [0.48764043],\n",
              "       [0.69615544],\n",
              "       [0.82287267],\n",
              "       [0.73743612],\n",
              "       [0.57340347],\n",
              "       [0.85776341],\n",
              "       [0.65646152],\n",
              "       [0.59060359],\n",
              "       [0.98088053],\n",
              "       [0.57175936],\n",
              "       [0.84680447],\n",
              "       [0.66693128],\n",
              "       [0.82259164],\n",
              "       [0.95687077],\n",
              "       [0.54755093],\n",
              "       [0.79887009],\n",
              "       [0.66298554],\n",
              "       [0.57169085],\n",
              "       [0.73164856],\n",
              "       [0.69071233],\n",
              "       [0.65559408],\n",
              "       [0.67595065],\n",
              "       [0.56317445],\n",
              "       [0.70127205],\n",
              "       [0.68500742],\n",
              "       [0.67581088],\n",
              "       [0.82072014],\n",
              "       [0.68669281],\n",
              "       [0.73213405],\n",
              "       [0.70319677],\n",
              "       [0.93193328],\n",
              "       [0.53069918],\n",
              "       [0.74769249],\n",
              "       [0.70785035],\n",
              "       [0.74733082],\n",
              "       [0.98726608],\n",
              "       [0.78145491],\n",
              "       [0.84170522],\n",
              "       [0.74590629],\n",
              "       [0.92003549],\n",
              "       [0.51212961],\n",
              "       [0.83469058],\n",
              "       [0.84738399],\n",
              "       [0.85260519],\n",
              "       [0.78021136],\n",
              "       [0.67668762],\n",
              "       [0.6362516 ],\n",
              "       [0.54116212],\n",
              "       [0.71122285],\n",
              "       [0.51693936],\n",
              "       [0.51729877],\n",
              "       [0.69064366],\n",
              "       [0.95679814],\n",
              "       [0.85353236],\n",
              "       [0.90756304],\n",
              "       [0.8315308 ],\n",
              "       [0.93831407],\n",
              "       [0.68411304],\n",
              "       [0.76696141],\n",
              "       [0.73256876],\n",
              "       [0.64420508],\n",
              "       [0.83354182],\n",
              "       [0.65761306],\n",
              "       [0.67424462],\n",
              "       [0.79384988],\n",
              "       [0.88047251],\n",
              "       [0.88349   ],\n",
              "       [0.76623061],\n",
              "       [0.94511734],\n",
              "       [0.60953798],\n",
              "       [0.61296318],\n",
              "       [0.78188112],\n",
              "       [0.52446465],\n",
              "       [0.70046981],\n",
              "       [0.66149616],\n",
              "       [0.7428962 ],\n",
              "       [0.76396597],\n",
              "       [0.67144677],\n",
              "       [0.4997304 ],\n",
              "       [0.88493113],\n",
              "       [0.73415102],\n",
              "       [0.9244145 ],\n",
              "       [0.78890557],\n",
              "       [0.70906398],\n",
              "       [0.78988742],\n",
              "       [0.70470082],\n",
              "       [0.67818156],\n",
              "       [0.5660967 ],\n",
              "       [0.88348907],\n",
              "       [0.51787033],\n",
              "       [0.7866648 ],\n",
              "       [0.72086983],\n",
              "       [0.78159076],\n",
              "       [0.73759017],\n",
              "       [0.53966551],\n",
              "       [0.8507437 ],\n",
              "       [0.85683299],\n",
              "       [0.4364599 ],\n",
              "       [0.63934765],\n",
              "       [0.89509701],\n",
              "       [0.75980528],\n",
              "       [0.48276044],\n",
              "       [0.72368161],\n",
              "       [0.5758404 ],\n",
              "       [0.62086302],\n",
              "       [0.53077697],\n",
              "       [0.86844595],\n",
              "       [0.65366715],\n",
              "       [0.63926474],\n",
              "       [0.66026926],\n",
              "       [0.74991828],\n",
              "       [0.59188251],\n",
              "       [0.83110496],\n",
              "       [0.63375168],\n",
              "       [0.638048  ],\n",
              "       [0.68053711],\n",
              "       [0.56221734],\n",
              "       [0.72956062],\n",
              "       [0.68506546],\n",
              "       [0.77958247],\n",
              "       [0.96418179],\n",
              "       [0.87947456],\n",
              "       [0.89302048],\n",
              "       [0.90226215],\n",
              "       [0.62520833],\n",
              "       [0.93621752],\n",
              "       [0.92040441],\n",
              "       [0.68155286],\n",
              "       [0.71093448],\n",
              "       [0.7877531 ],\n",
              "       [0.5277026 ],\n",
              "       [0.79384931],\n",
              "       [0.71981093],\n",
              "       [0.83274098],\n",
              "       [0.77907086],\n",
              "       [0.70217892],\n",
              "       [0.62600654],\n",
              "       [0.81706341],\n",
              "       [0.64565789],\n",
              "       [0.77091793],\n",
              "       [0.81613224],\n",
              "       [0.55786086],\n",
              "       [0.75148282],\n",
              "       [0.60479449],\n",
              "       [0.64743261],\n",
              "       [0.6597572 ],\n",
              "       [0.65102361],\n",
              "       [0.71967448],\n",
              "       [0.60723653],\n",
              "       [0.85776933],\n",
              "       [0.69180468],\n",
              "       [0.52209548],\n",
              "       [0.85318301],\n",
              "       [0.65102276],\n",
              "       [0.9629654 ],\n",
              "       [0.6685675 ],\n",
              "       [0.75751915],\n",
              "       [0.72132053],\n",
              "       [0.63087926],\n",
              "       [0.8441412 ],\n",
              "       [0.74174335],\n",
              "       [0.70096189],\n",
              "       [0.70943154],\n",
              "       [0.50412015],\n",
              "       [0.84155363],\n",
              "       [0.82509002],\n",
              "       [0.84679608],\n",
              "       [0.70497551],\n",
              "       [0.90262489],\n",
              "       [0.77887463],\n",
              "       [0.69708401],\n",
              "       [0.80330132],\n",
              "       [0.75829671],\n",
              "       [0.64758771],\n",
              "       [0.52740446],\n",
              "       [0.95186221],\n",
              "       [0.75077347],\n",
              "       [0.54508453],\n",
              "       [0.77885949],\n",
              "       [0.72302206],\n",
              "       [0.51571131],\n",
              "       [0.75471864],\n",
              "       [0.62083876],\n",
              "       [0.64629104],\n",
              "       [0.61339657],\n",
              "       [0.6581703 ],\n",
              "       [0.59198138],\n",
              "       [0.66521331],\n",
              "       [0.78968259],\n",
              "       [0.70913451],\n",
              "       [0.88291271],\n",
              "       [0.81283608],\n",
              "       [0.62450509],\n",
              "       [0.78108153],\n",
              "       [0.81283695],\n",
              "       [0.66290319],\n",
              "       [0.68600077],\n",
              "       [0.81219033],\n",
              "       [0.8559701 ],\n",
              "       [0.90520493],\n",
              "       [0.91057174],\n",
              "       [0.59504544],\n",
              "       [0.43818121],\n",
              "       [0.80424551],\n",
              "       [0.46820846],\n",
              "       [0.85854794],\n",
              "       [0.7051336 ],\n",
              "       [0.70897522],\n",
              "       [0.59310889],\n",
              "       [0.57677498],\n",
              "       [0.90254881],\n",
              "       [0.83748605],\n",
              "       [0.63167495],\n",
              "       [0.61985063],\n",
              "       [0.75836927],\n",
              "       [0.69157388],\n",
              "       [0.66815292],\n",
              "       [0.95973777],\n",
              "       [0.90469876],\n",
              "       [0.66469886],\n",
              "       [0.80366505],\n",
              "       [0.93630605],\n",
              "       [0.662118  ],\n",
              "       [0.770264  ],\n",
              "       [0.91438254],\n",
              "       [0.93178992],\n",
              "       [0.92971155],\n",
              "       [0.6232118 ],\n",
              "       [0.8857771 ],\n",
              "       [0.95629525],\n",
              "       [0.85890968],\n",
              "       [0.65182266],\n",
              "       [0.47157305],\n",
              "       [0.65810546]])"
            ]
          },
          "metadata": {},
          "execution_count": 37
        }
      ]
    },
    {
      "cell_type": "markdown",
      "source": [
        "**UASEP Multiple Linear Regression Model Deployment Test**"
      ],
      "metadata": {
        "id": "QKDRZfrJMrgR"
      }
    },
    {
      "cell_type": "code",
      "source": [
        "import requests\n",
        "\n",
        "# NOTE: you must manually set API_KEY below using information retrieved from your IBM Cloud account.\n",
        "API_KEY = \"O-xbXqcCv2iPGZfem_krJ8KX-kQ2h5bKybYpPwY-gOfl\"\n",
        "token_response = requests.post('https://iam.cloud.ibm.com/identity/token', data={\"apikey\":\n",
        " API_KEY, \"grant_type\": 'urn:ibm:params:oauth:grant-type:apikey'})\n",
        "mltoken = token_response.json()[\"access_token\"]\n",
        "\n",
        "header = {'Content-Type': 'application/json', 'Authorization': 'Bearer ' + mltoken}\n",
        "\n",
        "# NOTE: manually define and pass the array(s) of values to be scored in the next line\n",
        "payload_scoring = {\"input_data\": [{\"field\": [[\"GRE Score\",\"TOEFL Score\",\"University Rating\",\"SOP\",\"LOR \",\"CGPA\", \"Research\"]], \"values\": [[326, 110, 2, 3.5, 4, 9.23, 1]]}]}\n",
        "\n",
        "response_scoring = requests.post('https://us-south.ml.cloud.ibm.com/ml/v4/deployments/uaep_deployment/predictions?version=2022-11-12', json=payload_scoring,\n",
        " headers={'Authorization': 'Bearer ' + mltoken})\n",
        "print(\"Scoring response\")\n",
        "print(response_scoring.json())"
      ],
      "metadata": {
        "colab": {
          "base_uri": "https://localhost:8080/"
        },
        "id": "KEcD2-8xMVHC",
        "outputId": "14bdeff0-dc5d-4b46-8759-53a85a2676e8"
      },
      "execution_count": 41,
      "outputs": [
        {
          "output_type": "stream",
          "name": "stdout",
          "text": [
            "Scoring response\n",
            "{'predictions': [{'fields': ['prediction'], 'values': [[[0.8448151378927107]]]}]}\n"
          ]
        }
      ]
    },
    {
      "cell_type": "code",
      "source": [
        "probability = response_scoring.json()['predictions'][0]['values'][0][0][0]\n",
        "probability"
      ],
      "metadata": {
        "colab": {
          "base_uri": "https://localhost:8080/"
        },
        "id": "GBkKC-xfMh3i",
        "outputId": "fc8fda0d-6d52-4060-f91a-dc3d0f95f027"
      },
      "execution_count": 42,
      "outputs": [
        {
          "output_type": "execute_result",
          "data": {
            "text/plain": [
              "0.8448151378927107"
            ]
          },
          "metadata": {},
          "execution_count": 42
        }
      ]
    }
  ]
}